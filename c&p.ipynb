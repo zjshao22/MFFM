{
 "cells": [
  {
   "cell_type": "code",
   "execution_count": 1,
   "metadata": {},
   "outputs": [],
   "source": [
    "import csv\n",
    "import sqlite3\n",
    "import time\n",
    "import numpy as np\n",
    "import torch\n",
    "from torch.utils import data\n",
    "\n",
    "import pandas as pd\n",
    "from pandas import DataFrame\n",
    "from sklearn.decomposition import PCA\n",
    "\n",
    "import warnings\n",
    "warnings.filterwarnings(\"ignore\")"
   ]
  },
  {
   "cell_type": "code",
   "execution_count": 2,
   "metadata": {},
   "outputs": [],
   "source": [
    "event_num = 65 # event \n",
    "vector_size = 572 \n",
    "feature_list = [\"target\",\"enzyme\",\"smile\"]"
   ]
  },
  {
   "cell_type": "code",
   "execution_count": 3,
   "metadata": {},
   "outputs": [],
   "source": [
    "def feature_vector(feature_name, df, vector_size):\n",
    "    # df are the 572 kinds of drugs\n",
    "    # Jaccard Similarity\n",
    "    def Jaccard(matrix):\n",
    "        matrix = np.mat(matrix)\n",
    "        numerator = matrix * matrix.T\n",
    "        denominator = np.ones(np.shape(matrix)) * matrix.T + matrix * np.ones(np.shape(matrix.T)) - matrix * matrix.T\n",
    "        return numerator / denominator\n",
    "\n",
    "    all_feature = []\n",
    "\n",
    "    drug_list = np.array(df[feature_name]).tolist()\n",
    "    # Features for each drug, for example, when feature_name is target, drug_list=[\"P30556|P05412\",\"P28223|P46098|……\"]\n",
    "    for i in drug_list:\n",
    "        for each_feature in i.split('|'):\n",
    "            if each_feature not in all_feature:\n",
    "                # 881 pubchem fingerprints 数据集中用了多少种-->583\n",
    "                all_feature.append(each_feature)  # obtain all the features \n",
    "    # smiles_feature_matrix             \n",
    "    feature_matrix = np.zeros((len(drug_list), len(all_feature)), dtype=float)\n",
    "    df_feature = DataFrame(feature_matrix, columns=all_feature)  # Consrtuct feature matrices with key of dataframe\n",
    "    \n",
    "    for i in range(len(drug_list)):\n",
    "        for each_feature in df[feature_name].iloc[i].split('|'):\n",
    "            df_feature[each_feature].iloc[i] = 1\n",
    "\n",
    "    sim_matrix = Jaccard(np.array(df_feature))\n",
    "\n",
    "    # sim_matrix1 = np.array(sim_matrix)\n",
    "    # count = 0\n",
    "\n",
    "    pca = PCA(n_components=vector_size)  # PCA dimension \n",
    "    pca.fit(sim_matrix)\n",
    "    sim_matrix = pca.transform(sim_matrix)\n",
    "    return sim_matrix\n"
   ]
  },
  {
   "cell_type": "code",
   "execution_count": 4,
   "metadata": {},
   "outputs": [],
   "source": [
    "def prepare_tr(df_drug, feature_list, vector_size,mechanism,action,trmod):\n",
    "    d_label = {}\n",
    "    d_feature = {}\n",
    "    # Transfrom the interaction event to number\n",
    "    # Splice the features\n",
    "    d_event=[]\n",
    "    # machanism increase / decrease\n",
    "    for i in range(len(mechanism)):\n",
    "        d_event.append(mechanism[i]+\" \"+action[i])\n",
    "    count={}\n",
    "    for i in d_event:\n",
    "        if i in count:\n",
    "            count[i]+=1\n",
    "        else:\n",
    "            count[i]=1\n",
    "    # 取数字从高到低排列        \n",
    "    list1 = sorted(count.items(), key=lambda x: x[1],reverse=True)\n",
    "    '''[('The metabolism decrease', 9810),\n",
    "    #  ('The risk or severity of adverse effects increase', 9496),\n",
    "    #  ('The serum concentration increase', 5646),\n",
    "    #  ('The serum concentration decrease', 2386),...]\n",
    "    '''\n",
    "    # d_label : (machansim)(int)\n",
    "    for i in range(len(list1)):\n",
    "        d_label[list1[i][0]]=i # dic\n",
    "\n",
    "    # array([], shape=(572, 0), dtype=float64)\n",
    "    vector = np.zeros((len(np.array(df_drug['name']).tolist()), 0), dtype=float)\n",
    "\n",
    "    for i in feature_list:\n",
    "        vector = np.hstack((vector, feature_vector(i, df_drug, vector_size))) # feature_vector 返回相似度矩阵 hstack列维度拼接\n",
    "\n",
    "    df_feature_tr_char = torch.load('data/tr572.pt') # 572种药物tr分子预训练后的向量\n",
    "    df_feature_tr_word = torch.load('data/tr_word_572.pt') # 572种药物tr子结构预训练后的向量 word效果最好\n",
    "    tr_char = df_feature_tr_char\n",
    "    tr_word = df_feature_tr_word\n",
    "    if trmod == 'char':\n",
    "        vector = np.hstack((vector,tr_char))\n",
    "    \n",
    "    if trmod == 'word': \n",
    "        vector = np.hstack((vector,tr_word))\n",
    "\n",
    "\n",
    "    if trmod == 'n':\n",
    "        pass\n",
    "\n",
    "    # Transfrom the drug ID to feature vector\n",
    "    for i in range(len(np.array(df_drug['name']).tolist())):\n",
    "        d_feature[np.array(df_drug['name']).tolist()[i]] = vector[i] # \n",
    "\n",
    "    # Use the dictionary to obtain feature vector and label\n",
    "    new_feature = []\n",
    "    new_label = []\n",
    "    # name_to_id = {}\n",
    "    for i in range(len(d_event)):\n",
    "        new_feature.append(np.hstack((d_feature[drugA[i]], d_feature[drugB[i]]))) #(37264, 1144)\n",
    "        new_label.append(d_label[d_event[i]]) # (37264, 1144)\n",
    "    new_feature = np.array(new_feature)\n",
    "    new_label = np.array(new_label)\n",
    "    return (new_feature, new_label,event_num)\n"
   ]
  },
  {
   "cell_type": "code",
   "execution_count": 5,
   "metadata": {},
   "outputs": [],
   "source": [
    "conn = sqlite3.connect('data/event.db') # 读数据库 \n",
    "extraction = pd.read_sql('select * from extraction;', conn)\n",
    "mechanism = extraction['mechanism']\n",
    "action = extraction['action'] # increase decrease\n",
    "drugA = extraction['drugA']\n",
    "drugB = extraction['drugB']\n",
    "df_drug = pd.read_sql('select * from drug;', conn)\n",
    "dgs = pd.read_csv('data/df_drug.csv')# "
   ]
  },
  {
   "cell_type": "code",
   "execution_count": 6,
   "metadata": {},
   "outputs": [],
   "source": [
    "new_feature, new_label, event_num = prepare_tr(df_drug, feature_list, vector_size, mechanism, action,trmod='word')"
   ]
  },
  {
   "cell_type": "code",
   "execution_count": null,
   "metadata": {},
   "outputs": [],
   "source": [
    "# 构建数据\n"
   ]
  },
  {
   "cell_type": "code",
   "execution_count": null,
   "metadata": {},
   "outputs": [],
   "source": [
    "# ccatp_feature.pt\n",
    "ccatp_feature = torch.tensor(new_feature)\n",
    "torch.save(ccatp_feature,\"ccatp_feature.pt\")"
   ]
  },
  {
   "cell_type": "code",
   "execution_count": 7,
   "metadata": {},
   "outputs": [],
   "source": [
    "# ddi.csv\n",
    "with open(\"ddi.csv\",\"w\") as csvfile:\n",
    "    writer = csv.writer(csvfile)\n",
    "    writer.writerow([\"drug1\",\"drug2\",\"label\"])\n",
    "    for idx,i in enumerate (extraction.itertuples()):\n",
    "        \n",
    "        drug1 = dgs.loc[dgs[\"name\"] == i[4],\"smile\"].iloc[0]\n",
    "        drug2 = dgs.loc[dgs[\"name\"] == i[5],\"smile\"].iloc[0]\n",
    "        label = new_label[idx]\n",
    "        writer.writerow([drug1,drug2,label])"
   ]
  },
  {
   "cell_type": "code",
   "execution_count": 8,
   "metadata": {},
   "outputs": [],
   "source": [
    "# smile.csv\n",
    "with open(\"smile.csv\",\"w\") as csvfile:\n",
    "    writer = csv.writer(csvfile)\n",
    "    writer.writerow([\"name\",\"smile\"])\n",
    "    for idx,i in enumerate (dgs.itertuples()):\n",
    "        writer.writerow([i[8],i[7]])"
   ]
  }
 ],
 "metadata": {
  "kernelspec": {
   "display_name": "Python 3.9.5 ('pyt')",
   "language": "python",
   "name": "python3"
  },
  "language_info": {
   "codemirror_mode": {
    "name": "ipython",
    "version": 3
   },
   "file_extension": ".py",
   "mimetype": "text/x-python",
   "name": "python",
   "nbconvert_exporter": "python",
   "pygments_lexer": "ipython3",
   "version": "3.9.5"
  },
  "orig_nbformat": 4,
  "vscode": {
   "interpreter": {
    "hash": "7a7edb368049a8928aa11ee4f11ef9512021fababa4d0110b3f8d1e05563a76d"
   }
  }
 },
 "nbformat": 4,
 "nbformat_minor": 2
}
